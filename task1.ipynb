{
 "cells": [
  {
   "cell_type": "code",
   "execution_count": 1,
   "metadata": {},
   "outputs": [],
   "source": [
    "import pandas as pd\n",
    "import numpy as np\n",
    "import sklearn\n",
    "import torch\n",
    "import os"
   ]
  },
  {
   "attachments": {},
   "cell_type": "markdown",
   "metadata": {},
   "source": [
    "Q1: Exploratory Data Analysis (4 Pts)\n",
    "Download and explore the data. Explore label distribution and qualitatively describe the data by\n",
    "plotting healthy and pneumonia samples. Do you see visual differences between healthy and\n",
    "disease samples? Do you find sources of bias that could influence model performance? How do\n",
    "you preprocess the data for your further analysis?"
   ]
  },
  {
   "attachments": {},
   "cell_type": "markdown",
   "metadata": {},
   "source": [
    "Download and explore the data. Explore label distribution"
   ]
  },
  {
   "cell_type": "code",
   "execution_count": 7,
   "metadata": {},
   "outputs": [
    {
     "name": "stdout",
     "output_type": "stream",
     "text": [
      "Number of healthy samples: 1342\n",
      "Number of bacterial pneumonia samples: 2530\n",
      "Number of viral pneumonia samples: 1345\n"
     ]
    }
   ],
   "source": [
    "def count_samples(dir_path, filter_phrase=\"\"):\n",
    "    count = 0\n",
    "    # Iterate directory\n",
    "    for path in os.listdir(dir_path):\n",
    "        # check if current path is a file\n",
    "        if os.path.isfile(os.path.join(dir_path, path)):\n",
    "            if filter_phrase in os.path.basename(path):\n",
    "                count += 1\n",
    "    #account for duplicate Identifier files\n",
    "    return int(count/2)\n",
    "\n",
    "\n",
    "print(f\"Number of healthy training samples: {count_samples(r'chest_xray/train/NORMAL')}\")\n",
    "phrase = \"bacteria\"\n",
    "print(f\"Number of bacterial pneumonia training samples: {count_samples(r'chest_xray/train/PNEUMONIA', phrase)}\")\n",
    "phrase = \"virus\"\n",
    "print(f\"Number of viral pneumonia training samples: {count_samples((r'chest_xray/train/PNEUMONIA'), phrase)}\")\n",
    "\n"
   ]
  },
  {
   "attachments": {},
   "cell_type": "markdown",
   "metadata": {},
   "source": [
    "and qualitatively describe the data by plotting healthy and pneumonia samples."
   ]
  },
  {
   "cell_type": "code",
   "execution_count": null,
   "metadata": {},
   "outputs": [],
   "source": []
  },
  {
   "attachments": {},
   "cell_type": "markdown",
   "metadata": {},
   "source": [
    "Do you see visual differences between healthy and disease samples?"
   ]
  },
  {
   "attachments": {},
   "cell_type": "markdown",
   "metadata": {},
   "source": [
    "Do you find sources of bias that could influence model performance?"
   ]
  },
  {
   "attachments": {},
   "cell_type": "markdown",
   "metadata": {},
   "source": [
    "How do you preprocess the data for your further analysis?"
   ]
  },
  {
   "attachments": {},
   "cell_type": "markdown",
   "metadata": {},
   "source": [
    "Q2: CNN Classifier (4 Pts)\n",
    "In Q3 and Q4, we aim to use post-hoc explainability methods for visualizing the parts of the\n",
    "image that are important for the prediction of a model. Thus, design a small CNN classifier for\n",
    "the dataset and report its performance on a test set. Make sure to elaborate on your\n",
    "architecture and training details."
   ]
  },
  {
   "attachments": {},
   "cell_type": "markdown",
   "metadata": {},
   "source": [
    "design a small CNN classifier for the dataset and report its performance on a test set"
   ]
  },
  {
   "cell_type": "code",
   "execution_count": null,
   "metadata": {},
   "outputs": [],
   "source": []
  },
  {
   "attachments": {},
   "cell_type": "markdown",
   "metadata": {},
   "source": [
    "Make sure to elaborate on your architecture and training details."
   ]
  },
  {
   "cell_type": "code",
   "execution_count": null,
   "metadata": {},
   "outputs": [],
   "source": []
  }
 ],
 "metadata": {
  "kernelspec": {
   "display_name": "23fs_mlhc_p1-BKWt2mVv",
   "language": "python",
   "name": "python3"
  },
  "language_info": {
   "codemirror_mode": {
    "name": "ipython",
    "version": 3
   },
   "file_extension": ".py",
   "mimetype": "text/x-python",
   "name": "python",
   "nbconvert_exporter": "python",
   "pygments_lexer": "ipython3",
   "version": "3.10.6"
  },
  "orig_nbformat": 4
 },
 "nbformat": 4,
 "nbformat_minor": 2
}
